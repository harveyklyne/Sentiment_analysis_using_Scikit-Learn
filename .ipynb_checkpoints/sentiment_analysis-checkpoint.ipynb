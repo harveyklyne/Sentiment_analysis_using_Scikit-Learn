{
 "cells": [
  {
   "cell_type": "markdown",
   "id": "edb5f29b-b162-4f50-9e04-69cd09131f7e",
   "metadata": {
    "tags": []
   },
   "source": [
    "### Classes to ease parsing"
   ]
  },
  {
   "cell_type": "code",
   "execution_count": 94,
   "id": "06982f18-e24c-4d8d-a0ee-89eb9e47d106",
   "metadata": {},
   "outputs": [],
   "source": [
    "import random\n",
    "\n",
    "class Sentiment:\n",
    "    NEGATIVE = \"NEGATIVE\"\n",
    "    NEUTRAL = \"NEUTRAL\"\n",
    "    POSITIVE = \"POSITIVE\"\n",
    "\n",
    "class Review:\n",
    "    def __init__(self, text, score):\n",
    "        self.text = text\n",
    "        self.score = score\n",
    "        self.sentiment = self.get_sentiment()\n",
    "        \n",
    "    def get_sentiment(self):\n",
    "        if self.score <= 2:\n",
    "            return Sentiment.NEGATIVE\n",
    "        elif self.score == 3:\n",
    "            return Sentiment.NEUTRAL\n",
    "        else:\n",
    "            return Sentiment.POSITIVE\n",
    "\n",
    "# To balance classes in training data:\n",
    "class ReviewContainer:\n",
    "    def __init__(self, reviews):\n",
    "        self.reviews = reviews\n",
    "        \n",
    "    def evenly_distribute(self):\n",
    "        negative = list(filter(lambda x: x.sentiment == Sentiment.NEGATIVE, self.reviews))\n",
    "        # filter takes input a function and a list\n",
    "        # lambda is just an anonymous function\n",
    "        # need to convert the output of filter back to a list\n",
    "        positive = list(filter(lambda x: x.sentiment == Sentiment.POSITIVE, self.reviews))\n",
    "        \n",
    "        positive_shrink = positive[:len(negative)]\n",
    "        self.reviews = negative + positive_shrink\n",
    "        random.shuffle(self.reviews)\n",
    "        \n",
    "    def get_text(self):\n",
    "        return [x.text for x in self.reviews]\n",
    "    \n",
    "    def get_sentiment(self):\n",
    "        return [x.sentiment for x in self.reviews]"
   ]
  },
  {
   "cell_type": "markdown",
   "id": "51b3281a-c7e8-43c1-b947-f4d2502757a6",
   "metadata": {
    "tags": []
   },
   "source": [
    "### Load Data"
   ]
  },
  {
   "cell_type": "code",
   "execution_count": 62,
   "id": "03ffe32b-3060-4a2f-8a2a-a69b35e6b789",
   "metadata": {},
   "outputs": [
    {
     "data": {
      "text/plain": [
       "\"This is the First book in the Trilogy, and I'm looking forward to reading the second book.  I liked how the main characters interacted with famous characters in western history.\""
      ]
     },
     "execution_count": 62,
     "metadata": {},
     "output_type": "execute_result"
    }
   ],
   "source": [
    "import json\n",
    "# file_name = 'books_small.json'\n",
    "file_name = 'books_small_10000.json'\n",
    "\n",
    "reviews = []\n",
    "with open(file_name) as f:\n",
    "    for line in f:\n",
    "        review = json.loads(line)\n",
    "        reviews.append(Review(review['reviewText'], review['overall']))\n",
    "\n",
    "reviews[7].text\n"
   ]
  },
  {
   "cell_type": "markdown",
   "id": "614e8421-aee0-4115-98e5-d752f4ce2c14",
   "metadata": {
    "tags": []
   },
   "source": [
    "### Vectorise data"
   ]
  },
  {
   "cell_type": "code",
   "execution_count": 56,
   "id": "97919c24-0f75-4f11-b64f-7eafc9e6b27e",
   "metadata": {},
   "outputs": [
    {
     "data": {
      "text/plain": [
       "10000"
      ]
     },
     "execution_count": 56,
     "metadata": {},
     "output_type": "execute_result"
    }
   ],
   "source": [
    "len(reviews)"
   ]
  },
  {
   "cell_type": "code",
   "execution_count": 95,
   "id": "aa50686b-0c7e-482c-8c47-460355605bae",
   "metadata": {},
   "outputs": [],
   "source": [
    "from sklearn.model_selection import train_test_split\n",
    "\n",
    "training, test = train_test_split(reviews, test_size=0.33, random_state=42)\n",
    "\n",
    "train_container = ReviewContainer(training)\n",
    "test_container = ReviewContainer(test)"
   ]
  },
  {
   "cell_type": "code",
   "execution_count": 96,
   "id": "69db794c-0e82-44ce-8ed8-2a7821633e00",
   "metadata": {},
   "outputs": [
    {
     "data": {
      "text/plain": [
       "6700"
      ]
     },
     "execution_count": 96,
     "metadata": {},
     "output_type": "execute_result"
    }
   ],
   "source": [
    "len(training)"
   ]
  },
  {
   "cell_type": "code",
   "execution_count": 106,
   "id": "40e52d75-698e-49c8-ae1f-30b437651616",
   "metadata": {},
   "outputs": [
    {
     "name": "stdout",
     "output_type": "stream",
     "text": [
      "436\n",
      "436\n",
      "208\n",
      "208\n"
     ]
    }
   ],
   "source": [
    "# train_x = [x.text for x in training]\n",
    "train_container.evenly_distribute()\n",
    "train_x = train_container.get_text()\n",
    "# train_y = [x.sentiment for x in training]\n",
    "train_y = train_container.get_sentiment()\n",
    "\n",
    "# to make it a fairer test, also balance test set\n",
    "test_container.evenly_distribute()\n",
    "test_x = test_container.get_text()\n",
    "test_y = test_container.get_sentiment()\n",
    "\n",
    "print(train_y.count(Sentiment.POSITIVE))\n",
    "print(train_y.count(Sentiment.NEGATIVE))\n",
    "print(test_y.count(Sentiment.POSITIVE))\n",
    "print(test_y.count(Sentiment.NEGATIVE))\n"
   ]
  },
  {
   "cell_type": "markdown",
   "id": "862799e3-cbed-4765-b1f7-52c01fced455",
   "metadata": {
    "tags": []
   },
   "source": [
    "#### Bags of words"
   ]
  },
  {
   "cell_type": "code",
   "execution_count": 125,
   "id": "96348999-469f-4fd0-bc37-dc120a26acf0",
   "metadata": {},
   "outputs": [
    {
     "name": "stdout",
     "output_type": "stream",
     "text": [
      "This is a must read book for those that have not read on the subject.Lord Russell published this book in 1954, one of the first books on the subjectother than the accounts from the Nuremberg trials.This book tries to analyse, although not in depth, why the Germans wentto these extremes, and the ways they used to exterminate a lot of peoplethat they thought off as enemies, sub-humans etc.You have to have a good stomach to read this book, and the writing being withoutemotions it brings out all the cruelty and horror that were the actions of the Germans.The reader must constantly remember that this book was written in 1954, and manythings and stories have become common knowledge since then.But still, it is an interesting read, that you will not put down until you finish it.And it is a good start if you want to start reading on the subject.\n",
      "  (0, 6399)\t0.05075109917356575\n",
      "  (0, 8589)\t0.06047832821677403\n",
      "  (0, 3968)\t0.04561865131008818\n",
      "  (0, 7462)\t0.14310860850880175\n",
      "  (0, 3076)\t0.0711441552913837\n",
      "  (0, 8403)\t0.07627660315486125\n",
      "  (0, 2416)\t0.060930015485255735\n",
      "  (0, 6293)\t0.06418275861470425\n",
      "  (0, 8728)\t0.05101155188881443\n",
      "  (0, 4190)\t0.057601192521377374\n",
      "  (0, 416)\t0.043007551398093286\n",
      "  (0, 7505)\t0.06684165679812372\n",
      "  (0, 1168)\t0.03258629451130392\n",
      "  (0, 7943)\t0.06047832821677403\n",
      "  (0, 7164)\t0.07472425979149955\n",
      "  (0, 4500)\t0.0975770087388634\n",
      "  (0, 1583)\t0.11392427142733022\n",
      "  (0, 798)\t0.087090486632196\n",
      "  (0, 7530)\t0.06561077608025159\n",
      "  (0, 4892)\t0.12629049826802669\n",
      "  (0, 8843)\t0.05857633654151111\n",
      "  (0, 8608)\t0.030809634240956257\n",
      "  (0, 6539)\t0.0958766089727766\n",
      "  (0, 1693)\t0.0958766089727766\n",
      "  (0, 6394)\t0.06591062673746828\n",
      "  :\t:\n",
      "  (0, 7919)\t0.05918807741370443\n",
      "  (0, 7605)\t0.12629049826802669\n",
      "  (0, 996)\t0.050494394109656886\n",
      "  (0, 3087)\t0.051143218125813836\n",
      "  (0, 5478)\t0.07786236634721583\n",
      "  (0, 5514)\t0.04029332919904824\n",
      "  (0, 38)\t0.2381134385816156\n",
      "  (0, 4034)\t0.08781416586486403\n",
      "  (0, 6259)\t0.0958766089727766\n",
      "  (0, 6805)\t0.12629049826802669\n",
      "  (0, 4768)\t0.10394033732021307\n",
      "  (0, 7603)\t0.17042156379633386\n",
      "  (0, 5512)\t0.11712982573631281\n",
      "  (0, 5408)\t0.09889166830278241\n",
      "  (0, 3669)\t0.14524917340511145\n",
      "  (0, 7984)\t0.0688635192097001\n",
      "  (0, 3177)\t0.030809634240956257\n",
      "  (0, 6392)\t0.1388673565897432\n",
      "  (0, 5255)\t0.14568911011494093\n",
      "  (0, 4264)\t0.08712056545730922\n",
      "  (0, 7976)\t0.11958657189215767\n",
      "  (0, 423)\t0.1353742426425951\n",
      "  (0, 7925)\t0.12688117044675826\n",
      "  (0, 991)\t0.13106813848372845\n",
      "  (0, 7929)\t0.27726325928893997\n"
     ]
    }
   ],
   "source": [
    "from sklearn.feature_extraction.text import CountVectorizer, TfidfVectorizer\n",
    "\n",
    "# vectorizer = CountVectorizer()\n",
    "vectorizer = TfidfVectorizer()\n",
    "train_x_vectors = vectorizer.fit_transform(train_x)\n",
    "test_x_vectors = vectorizer.transform(test_x) # don't refit, just transform\n",
    "\n",
    "print(train_x[1])\n",
    "print(train_x_vectors[1])"
   ]
  },
  {
   "cell_type": "markdown",
   "id": "e9e1dcef-63fb-4364-9447-16916bd8aa84",
   "metadata": {
    "tags": []
   },
   "source": [
    "### Fit clasifiers"
   ]
  },
  {
   "cell_type": "markdown",
   "id": "3585f5b3-e607-4063-b49d-4ecbf2c127b4",
   "metadata": {
    "tags": []
   },
   "source": [
    "#### Linear SVM"
   ]
  },
  {
   "cell_type": "code",
   "execution_count": 126,
   "id": "da4f1ff4-1eea-4b50-a8b6-d5485a01cd3d",
   "metadata": {},
   "outputs": [
    {
     "name": "stdout",
     "output_type": "stream",
     "text": [
      "I felt like I was reading a religious propaganda novel. Sorry Rollins, I'm so over you. Why does this program require a minimum number of words?\n",
      "['NEGATIVE']\n"
     ]
    }
   ],
   "source": [
    "from sklearn.svm import SVC\n",
    "\n",
    "clf_svm = SVC(kernel='linear')\n",
    "clf_svm.fit(train_x_vectors, train_y)\n",
    "\n",
    "print(test_x[0])\n",
    "print(clf_svm.predict(test_x_vectors[0]))"
   ]
  },
  {
   "cell_type": "markdown",
   "id": "407633b9-9974-4c7a-ab8c-17982aadec9a",
   "metadata": {
    "tags": []
   },
   "source": [
    "#### Decision tree"
   ]
  },
  {
   "cell_type": "code",
   "execution_count": 127,
   "id": "2fb0f124-555f-4e96-861b-28dca1956719",
   "metadata": {},
   "outputs": [
    {
     "name": "stdout",
     "output_type": "stream",
     "text": [
      "['POSITIVE']\n"
     ]
    }
   ],
   "source": [
    "from sklearn.tree import DecisionTreeClassifier\n",
    "\n",
    "clf_tree = DecisionTreeClassifier()\n",
    "clf_tree.fit(train_x_vectors, train_y)\n",
    "\n",
    "print(clf_tree.predict(test_x_vectors[0]))"
   ]
  },
  {
   "cell_type": "markdown",
   "id": "4722a8f4-fec4-4873-837f-e641ff0956ee",
   "metadata": {
    "tags": []
   },
   "source": [
    "#### Nearest neighbour"
   ]
  },
  {
   "cell_type": "code",
   "execution_count": 128,
   "id": "e348eea3-bf93-4eaf-8678-04d5abcc7db9",
   "metadata": {},
   "outputs": [
    {
     "name": "stdout",
     "output_type": "stream",
     "text": [
      "['NEGATIVE']\n"
     ]
    }
   ],
   "source": [
    "from sklearn.neighbors import KNeighborsClassifier\n",
    "\n",
    "clf_nn = KNeighborsClassifier(n_neighbors=5)\n",
    "clf_nn.fit(train_x_vectors, train_y)\n",
    "\n",
    "print(clf_nn.predict(test_x_vectors[0]))"
   ]
  },
  {
   "cell_type": "markdown",
   "id": "75bca4a0-2120-4762-bdbd-be829d58fd8f",
   "metadata": {},
   "source": [
    "### Testing!!"
   ]
  },
  {
   "cell_type": "code",
   "execution_count": 129,
   "id": "41d2d93c-7ef2-4f7d-8294-a0d36533c4e4",
   "metadata": {},
   "outputs": [
    {
     "name": "stdout",
     "output_type": "stream",
     "text": [
      "0.8076923076923077\n",
      "0.6177884615384616\n",
      "0.6634615384615384\n"
     ]
    }
   ],
   "source": [
    "# mean accuracy\n",
    "\n",
    "print(clf_svm.score(test_x_vectors, test_y))\n",
    "print(clf_tree.score(test_x_vectors, test_y))\n",
    "print(clf_nn.score(test_x_vectors, test_y))"
   ]
  },
  {
   "cell_type": "code",
   "execution_count": 130,
   "id": "ba67b47c-cce0-4b0b-b637-0cdf120288b9",
   "metadata": {},
   "outputs": [
    {
     "name": "stdout",
     "output_type": "stream",
     "text": [
      "[0.80582524 0.80952381]\n",
      "[0.60933661 0.62588235]\n",
      "[0.60674157 0.70588235]\n"
     ]
    }
   ],
   "source": [
    "# f1 scores, supposedly more informative\n",
    "\n",
    "from sklearn.metrics import f1_score\n",
    "\n",
    "print(f1_score(test_y, clf_svm.predict(test_x_vectors), average=None, labels=[Sentiment.POSITIVE, Sentiment.NEGATIVE]))\n",
    "print(f1_score(test_y, clf_tree.predict(test_x_vectors), average=None, labels=[Sentiment.POSITIVE, Sentiment.NEGATIVE]))\n",
    "print(f1_score(test_y, clf_nn.predict(test_x_vectors), average=None, labels=[Sentiment.POSITIVE, Sentiment.NEGATIVE]))\n",
    "# these classifier does well at identifying positive reviews, but poorly for neutral and negative"
   ]
  },
  {
   "cell_type": "code",
   "execution_count": 131,
   "id": "e5ed15b6-b634-40f5-a5c9-854710c39a50",
   "metadata": {},
   "outputs": [
    {
     "name": "stdout",
     "output_type": "stream",
     "text": [
      "436\n",
      "0\n",
      "436\n"
     ]
    }
   ],
   "source": [
    "print(train_y.count(Sentiment.POSITIVE))\n",
    "print(train_y.count(Sentiment.NEUTRAL))\n",
    "print(train_y.count(Sentiment.NEGATIVE))\n",
    "# positive reviews are over-represented in the data set!!"
   ]
  },
  {
   "cell_type": "code",
   "execution_count": 132,
   "id": "1e491c05-f571-436f-a5c8-26ede4205975",
   "metadata": {},
   "outputs": [
    {
     "name": "stdout",
     "output_type": "stream",
     "text": [
      "6700\n",
      "872\n"
     ]
    }
   ],
   "source": [
    "cont = ReviewContainer(training)\n",
    "cont.evenly_distribute()\n",
    "print(len(training))\n",
    "print(len(cont.reviews))"
   ]
  },
  {
   "cell_type": "code",
   "execution_count": 135,
   "id": "75b769a4-c6e3-41c0-803c-2e348d6e1f5a",
   "metadata": {},
   "outputs": [
    {
     "name": "stdout",
     "output_type": "stream",
     "text": [
      "208\n",
      "0\n",
      "208\n"
     ]
    }
   ],
   "source": [
    "print(test_y.count(Sentiment.POSITIVE))\n",
    "print(test_y.count(Sentiment.NEUTRAL))\n",
    "print(test_y.count(Sentiment.NEGATIVE))"
   ]
  },
  {
   "cell_type": "code",
   "execution_count": 139,
   "id": "2c07c6c1-36da-4b06-bcb8-f896fb5dfeed",
   "metadata": {},
   "outputs": [
    {
     "name": "stdout",
     "output_type": "stream",
     "text": [
      "['POSITIVE' 'NEGATIVE' 'NEGATIVE']\n"
     ]
    }
   ],
   "source": [
    "test_set = ['very fun', 'bad book do not buy', 'horrible waste of time']\n",
    "new_test = vectorizer.transform(test_set)\n",
    "print(clf_svm.predict(new_test))"
   ]
  },
  {
   "cell_type": "markdown",
   "id": "dc2f92b4-4f24-4238-a802-4c5d4f8b7d5c",
   "metadata": {},
   "source": [
    "### Tuning"
   ]
  },
  {
   "cell_type": "code",
   "execution_count": 147,
   "id": "8e49f2bf-1009-41e7-89ce-768fafbb7fd1",
   "metadata": {},
   "outputs": [
    {
     "name": "stdout",
     "output_type": "stream",
     "text": [
      "SVC(C=4)\n",
      "KNeighborsClassifier(n_neighbors=3)\n"
     ]
    }
   ],
   "source": [
    "from sklearn.model_selection import GridSearchCV\n",
    "\n",
    "svm_params = {'kernel':('linear', 'rbf'), 'C':(0.2,0.5,1,2,4)}\n",
    "nn_params = {'n_neighbors':(1,2,3,5,10)}\n",
    "\n",
    "svc = SVC()\n",
    "tuned_svm = GridSearchCV(svc, svm_params, cv=5)\n",
    "tuned_svm.fit(train_x_vectors, train_y)\n",
    "\n",
    "print(tuned_svm.best_estimator_)\n",
    "\n",
    "nn = KNeighborsClassifier()\n",
    "tuned_nn = GridSearchCV(nn, nn_params, cv=5)\n",
    "tuned_nn.fit(train_x_vectors, train_y)\n",
    "\n",
    "print(tuned_nn.best_estimator_)"
   ]
  },
  {
   "cell_type": "code",
   "execution_count": 148,
   "id": "a950862b-c488-41d0-9396-cfb00737c823",
   "metadata": {},
   "outputs": [
    {
     "name": "stdout",
     "output_type": "stream",
     "text": [
      "0.8197115384615384\n",
      "0.6730769230769231\n"
     ]
    }
   ],
   "source": [
    "print(tuned_svm.score(test_x_vectors, test_y))\n",
    "print(tuned_nn.score(test_x_vectors, test_y))"
   ]
  },
  {
   "cell_type": "code",
   "execution_count": 149,
   "id": "c0f39276-c2a5-4a44-9385-fa321424f264",
   "metadata": {},
   "outputs": [
    {
     "name": "stdout",
     "output_type": "stream",
     "text": [
      "[0.82269504 0.81662592]\n",
      "[0.63243243 0.70562771]\n"
     ]
    }
   ],
   "source": [
    "print(f1_score(test_y, tuned_svm.predict(test_x_vectors), average=None, labels=[Sentiment.POSITIVE, Sentiment.NEGATIVE]))\n",
    "print(f1_score(test_y, tuned_nn.predict(test_x_vectors), average=None, labels=[Sentiment.POSITIVE, Sentiment.NEGATIVE]))"
   ]
  }
 ],
 "metadata": {
  "kernelspec": {
   "display_name": "Python 3 (ipykernel)",
   "language": "python",
   "name": "python3"
  },
  "language_info": {
   "codemirror_mode": {
    "name": "ipython",
    "version": 3
   },
   "file_extension": ".py",
   "mimetype": "text/x-python",
   "name": "python",
   "nbconvert_exporter": "python",
   "pygments_lexer": "ipython3",
   "version": "3.9.6"
  }
 },
 "nbformat": 4,
 "nbformat_minor": 5
}
